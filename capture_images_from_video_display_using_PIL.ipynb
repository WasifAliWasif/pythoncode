{
  "nbformat": 4,
  "nbformat_minor": 0,
  "metadata": {
    "colab": {
      "provenance": [],
      "collapsed_sections": [],
      "authorship_tag": "ABX9TyNb5ZRdfeZSkn1jBVExkGkb",
      "include_colab_link": true
    },
    "kernelspec": {
      "name": "python3",
      "display_name": "Python 3"
    },
    "language_info": {
      "name": "python"
    }
  },
  "cells": [
    {
      "cell_type": "markdown",
      "metadata": {
        "id": "view-in-github",
        "colab_type": "text"
      },
      "source": [
        "<a href=\"https://colab.research.google.com/github/WasifAliWasif/pythoncode/blob/main/capture_images_from_video_display_using_PIL.ipynb\" target=\"_parent\"><img src=\"https://colab.research.google.com/assets/colab-badge.svg\" alt=\"Open In Colab\"/></a>"
      ]
    },
    {
      "cell_type": "code",
      "execution_count": null,
      "metadata": {
        "id": "-b37SmVQMfDP"
      },
      "outputs": [],
      "source": [
        " import shutil, sys  \n",
        "shutil.rmtree('/content/data')#used for delete folder with file and directories \n"
      ]
    },
    {
      "cell_type": "code",
      "source": [
        "import os\n",
        "os.mkdir('data')"
      ],
      "metadata": {
        "id": "RCCsJ8KaPHgO"
      },
      "execution_count": null,
      "outputs": []
    },
    {
      "cell_type": "code",
      "source": [
        "from google.colab import drive\n",
        "drive.mount('/content/gdrive')"
      ],
      "metadata": {
        "id": "zozOLG_RPHwC"
      },
      "execution_count": null,
      "outputs": []
    },
    {
      "cell_type": "code",
      "source": [
        "import cv2\n",
        "\n",
        "def three_images_per_second(video_file, output_dir, fps):\n",
        "    cap = cv2.VideoCapture(video_file)\n",
        "    frame_num = 0\n",
        "    image_num = 0\n",
        "    while cap.isOpened():\n",
        "        ret, frame = cap.read()\n",
        "        if ret:\n",
        "            if frame_num % (fps // 3) == 0:\n",
        "                cv2.imwrite(output_dir+\"/image{}.jpg\".format(image_num),frame)\n",
        "                image_num += 1\n",
        "        else:\n",
        "            break\n",
        "        frame_num += 1\n",
        "\n",
        "    cap.release()\n",
        "    cv2.destroyAllWindows()\n",
        "    return\n",
        "\n",
        "video_file='/content/gdrive/MyDrive/facial_Palsy/Synkinetic/ModerateSynkinetic/Synkinetic_Moderate3/Synkinetic_Moderate3.mp4'\n",
        "output_dir='/content/data'\n",
        "fps=90\n",
        "three_images_per_second(video_file, output_dir,fps)"
      ],
      "metadata": {
        "id": "uMVG0IQbPTVZ"
      },
      "execution_count": null,
      "outputs": []
    },
    {
      "cell_type": "code",
      "source": [
        "import random\n",
        "from fnmatch import fnmatch\n",
        "import matplotlib.pyplot as plt\n",
        "from PIL import Image\n",
        "\n",
        "root = '/content/data'\n",
        "pattern = \"*.jpg\"\n",
        "train_paths=[]\n",
        "for path, subdirs, files in os.walk(root):\n",
        "    for name in files:\n",
        "        if fnmatch(name, pattern):\n",
        "            train_paths.append(os.path.join(path, name))\n",
        "\n",
        "rand_train_paths=[]\n",
        "rand_train_paths=random.sample(train_paths, 25)\n",
        "\n",
        " \n",
        "plt.figure(figsize=(60, 60))\n",
        "for i in range(len(rand_train_paths)):\n",
        "  plt.subplot(5,5,i+1)\n",
        "  plt.imshow(Image.open(rand_train_paths[i]))\n",
        "plt.show() "
      ],
      "metadata": {
        "id": "FbdwjuMdPU8K"
      },
      "execution_count": null,
      "outputs": []
    }
  ]
}