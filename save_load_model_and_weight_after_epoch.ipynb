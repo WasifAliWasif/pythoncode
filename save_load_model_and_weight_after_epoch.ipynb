{
  "nbformat": 4,
  "nbformat_minor": 0,
  "metadata": {
    "colab": {
      "provenance": [],
      "authorship_tag": "ABX9TyOF6ZRY+6Yz7OahtQZpmyIX",
      "include_colab_link": true
    },
    "kernelspec": {
      "name": "python3",
      "display_name": "Python 3"
    },
    "language_info": {
      "name": "python"
    }
  },
  "cells": [
    {
      "cell_type": "markdown",
      "metadata": {
        "id": "view-in-github",
        "colab_type": "text"
      },
      "source": [
        "<a href=\"https://colab.research.google.com/github/WasifAliWasif/pythoncode/blob/main/save_load_model_and_weight_after_epoch.ipynb\" target=\"_parent\"><img src=\"https://colab.research.google.com/assets/colab-badge.svg\" alt=\"Open In Colab\"/></a>"
      ]
    },
    {
      "cell_type": "code",
      "execution_count": 19,
      "metadata": {
        "colab": {
          "base_uri": "https://localhost:8080/"
        },
        "id": "cAeVjWxlte8K",
        "outputId": "02bd3409-c192-428c-b385-7ced852508f7"
      },
      "outputs": [
        {
          "output_type": "stream",
          "name": "stdout",
          "text": [
            "Drive already mounted at /content/drive/; to attempt to forcibly remount, call drive.mount(\"/content/drive/\", force_remount=True).\n"
          ]
        }
      ],
      "source": [
        "from google.colab import drive\n",
        "drive.mount('/content/drive/')"
      ]
    },
    {
      "cell_type": "code",
      "source": [
        "import tensorflow as tf\n",
        "def dataset(path):\n",
        "   batch = tf.keras.preprocessing.image_dataset_from_directory(\n",
        "    path,\n",
        "    labels=\"inferred\",\n",
        "    label_mode=\"int\",\n",
        "    class_names=None,\n",
        "    color_mode=\"rgb\",\n",
        "    batch_size=32,\n",
        "    image_size=(96, 96),\n",
        "    shuffle=True,\n",
        "    seed=None,\n",
        "    validation_split=None,\n",
        "    subset=None,\n",
        "    interpolation=\"bilinear\",\n",
        "    follow_links=False,\n",
        "    crop_to_aspect_ratio=False,\n",
        "    )\n",
        "   return batch"
      ],
      "metadata": {
        "id": "qN33PChPuCQD"
      },
      "execution_count": 20,
      "outputs": []
    },
    {
      "cell_type": "code",
      "source": [
        "train_it=dataset(\"/content/drive/MyDrive/DIR_SYS_FP_DATASET/train\")\n",
        "test_it=dataset(\"/content/drive/MyDrive/DIR_SYS_FP_DATASET/test\")\n",
        "val_it=dataset(\"/content/drive/MyDrive/DIR_SYS_FP_DATASET/val\")"
      ],
      "metadata": {
        "colab": {
          "base_uri": "https://localhost:8080/"
        },
        "id": "UgaXxrjbvDD3",
        "outputId": "555ea553-3ce1-463b-bbde-3c992206ff54"
      },
      "execution_count": 21,
      "outputs": [
        {
          "output_type": "stream",
          "name": "stdout",
          "text": [
            "Found 3286 files belonging to 11 classes.\n",
            "Found 716 files belonging to 11 classes.\n",
            "Found 703 files belonging to 11 classes.\n"
          ]
        }
      ]
    },
    {
      "cell_type": "code",
      "source": [
        "import tensorflow as tf\n",
        "from tensorflow import keras\n",
        "from tensorflow.keras import layers\n",
        "from tensorflow.keras.models import Sequential\n",
        "normalization_layer = layers.Rescaling(1./255)\n",
        "normalized_ds = train_it.map(lambda x, y: (normalization_layer(x), y))\n",
        "class_names = train_it.class_names\n",
        "num_classes = len(class_names)\n",
        "data_augmentation = keras.Sequential(  [layers.RandomFlip(\"horizontal\",input_shape=(96,96,3)),layers.RandomRotation(0.1),layers.RandomZoom(0.1),])\n",
        "\n",
        " "
      ],
      "metadata": {
        "id": "nnYVwWqxt9V7"
      },
      "execution_count": 22,
      "outputs": []
    },
    {
      "cell_type": "code",
      "source": [
        "model = Sequential([\n",
        "  data_augmentation,\n",
        "  layers.Rescaling(1./255),\n",
        "  layers.Conv2D(16, 3, padding='same', activation='relu'),\n",
        "  layers.MaxPooling2D(),\n",
        "  layers.Conv2D(32, 3, padding='same', activation='relu'),\n",
        "  layers.MaxPooling2D(),\n",
        "  layers.Conv2D(64, 3, padding='same', activation='relu'),\n",
        "  layers.MaxPooling2D(),\n",
        "  layers.Dropout(0.2),\n",
        "  layers.Flatten(),\n",
        "  layers.Dense(128, activation='relu'),\n",
        "  layers.Dense(num_classes, name=\"outputs\")\n",
        "])"
      ],
      "metadata": {
        "id": "sEMWqohrxS9g"
      },
      "execution_count": 23,
      "outputs": []
    },
    {
      "cell_type": "code",
      "source": [
        "model.compile(optimizer='adam',loss=tf.keras.losses.SparseCategoricalCrossentropy(from_logits=True),metrics=['accuracy'])"
      ],
      "metadata": {
        "id": "wflg3iIvxYk4"
      },
      "execution_count": 24,
      "outputs": []
    },
    {
      "cell_type": "code",
      "source": [
        "model.add(\"/content/drive/MyDrive/Check_point_weight/cp.ckpt.data-00000-of-00001\")"
      ],
      "metadata": {
        "colab": {
          "base_uri": "https://localhost:8080/",
          "height": 328
        },
        "id": "IVia1ZgpQ-62",
        "outputId": "598e5782-a4c1-48f1-881b-8ae79eac968f"
      },
      "execution_count": 14,
      "outputs": [
        {
          "output_type": "error",
          "ename": "TypeError",
          "evalue": "ignored",
          "traceback": [
            "\u001b[0;31m---------------------------------------------------------------------------\u001b[0m",
            "\u001b[0;31mTypeError\u001b[0m                                 Traceback (most recent call last)",
            "\u001b[0;32m<ipython-input-14-54ae777fac67>\u001b[0m in \u001b[0;36m<module>\u001b[0;34m\u001b[0m\n\u001b[0;32m----> 1\u001b[0;31m \u001b[0mmodel\u001b[0m\u001b[0;34m.\u001b[0m\u001b[0madd\u001b[0m\u001b[0;34m(\u001b[0m\u001b[0;34m\"/content/drive/MyDrive/Check_point_weight/cp.ckpt.data-00000-of-00001\"\u001b[0m\u001b[0;34m)\u001b[0m\u001b[0;34m\u001b[0m\u001b[0;34m\u001b[0m\u001b[0m\n\u001b[0m",
            "\u001b[0;32m/usr/local/lib/python3.8/dist-packages/tensorflow/python/training/tracking/base.py\u001b[0m in \u001b[0;36m_method_wrapper\u001b[0;34m(self, *args, **kwargs)\u001b[0m\n\u001b[1;32m    585\u001b[0m     \u001b[0mself\u001b[0m\u001b[0;34m.\u001b[0m\u001b[0m_self_setattr_tracking\u001b[0m \u001b[0;34m=\u001b[0m \u001b[0;32mFalse\u001b[0m  \u001b[0;31m# pylint: disable=protected-access\u001b[0m\u001b[0;34m\u001b[0m\u001b[0;34m\u001b[0m\u001b[0m\n\u001b[1;32m    586\u001b[0m     \u001b[0;32mtry\u001b[0m\u001b[0;34m:\u001b[0m\u001b[0;34m\u001b[0m\u001b[0;34m\u001b[0m\u001b[0m\n\u001b[0;32m--> 587\u001b[0;31m       \u001b[0mresult\u001b[0m \u001b[0;34m=\u001b[0m \u001b[0mmethod\u001b[0m\u001b[0;34m(\u001b[0m\u001b[0mself\u001b[0m\u001b[0;34m,\u001b[0m \u001b[0;34m*\u001b[0m\u001b[0margs\u001b[0m\u001b[0;34m,\u001b[0m \u001b[0;34m**\u001b[0m\u001b[0mkwargs\u001b[0m\u001b[0;34m)\u001b[0m\u001b[0;34m\u001b[0m\u001b[0;34m\u001b[0m\u001b[0m\n\u001b[0m\u001b[1;32m    588\u001b[0m     \u001b[0;32mfinally\u001b[0m\u001b[0;34m:\u001b[0m\u001b[0;34m\u001b[0m\u001b[0;34m\u001b[0m\u001b[0m\n\u001b[1;32m    589\u001b[0m       \u001b[0mself\u001b[0m\u001b[0;34m.\u001b[0m\u001b[0m_self_setattr_tracking\u001b[0m \u001b[0;34m=\u001b[0m \u001b[0mprevious_value\u001b[0m  \u001b[0;31m# pylint: disable=protected-access\u001b[0m\u001b[0;34m\u001b[0m\u001b[0;34m\u001b[0m\u001b[0m\n",
            "\u001b[0;32m/usr/local/lib/python3.8/dist-packages/keras/utils/traceback_utils.py\u001b[0m in \u001b[0;36merror_handler\u001b[0;34m(*args, **kwargs)\u001b[0m\n\u001b[1;32m     65\u001b[0m     \u001b[0;32mexcept\u001b[0m \u001b[0mException\u001b[0m \u001b[0;32mas\u001b[0m \u001b[0me\u001b[0m\u001b[0;34m:\u001b[0m  \u001b[0;31m# pylint: disable=broad-except\u001b[0m\u001b[0;34m\u001b[0m\u001b[0;34m\u001b[0m\u001b[0m\n\u001b[1;32m     66\u001b[0m       \u001b[0mfiltered_tb\u001b[0m \u001b[0;34m=\u001b[0m \u001b[0m_process_traceback_frames\u001b[0m\u001b[0;34m(\u001b[0m\u001b[0me\u001b[0m\u001b[0;34m.\u001b[0m\u001b[0m__traceback__\u001b[0m\u001b[0;34m)\u001b[0m\u001b[0;34m\u001b[0m\u001b[0;34m\u001b[0m\u001b[0m\n\u001b[0;32m---> 67\u001b[0;31m       \u001b[0;32mraise\u001b[0m \u001b[0me\u001b[0m\u001b[0;34m.\u001b[0m\u001b[0mwith_traceback\u001b[0m\u001b[0;34m(\u001b[0m\u001b[0mfiltered_tb\u001b[0m\u001b[0;34m)\u001b[0m \u001b[0;32mfrom\u001b[0m \u001b[0;32mNone\u001b[0m\u001b[0;34m\u001b[0m\u001b[0;34m\u001b[0m\u001b[0m\n\u001b[0m\u001b[1;32m     68\u001b[0m     \u001b[0;32mfinally\u001b[0m\u001b[0;34m:\u001b[0m\u001b[0;34m\u001b[0m\u001b[0;34m\u001b[0m\u001b[0m\n\u001b[1;32m     69\u001b[0m       \u001b[0;32mdel\u001b[0m \u001b[0mfiltered_tb\u001b[0m\u001b[0;34m\u001b[0m\u001b[0;34m\u001b[0m\u001b[0m\n",
            "\u001b[0;32m/usr/local/lib/python3.8/dist-packages/keras/engine/sequential.py\u001b[0m in \u001b[0;36madd\u001b[0;34m(self, layer)\u001b[0m\n\u001b[1;32m    176\u001b[0m         \u001b[0mlayer\u001b[0m \u001b[0;34m=\u001b[0m \u001b[0mfunctional\u001b[0m\u001b[0;34m.\u001b[0m\u001b[0mModuleWrapper\u001b[0m\u001b[0;34m(\u001b[0m\u001b[0mlayer\u001b[0m\u001b[0;34m)\u001b[0m\u001b[0;34m\u001b[0m\u001b[0;34m\u001b[0m\u001b[0m\n\u001b[1;32m    177\u001b[0m     \u001b[0;32melse\u001b[0m\u001b[0;34m:\u001b[0m\u001b[0;34m\u001b[0m\u001b[0;34m\u001b[0m\u001b[0m\n\u001b[0;32m--> 178\u001b[0;31m       raise TypeError('The added layer must be an instance of class Layer. '\n\u001b[0m\u001b[1;32m    179\u001b[0m                       f'Received: layer={layer} of type {type(layer)}.')\n\u001b[1;32m    180\u001b[0m \u001b[0;34m\u001b[0m\u001b[0m\n",
            "\u001b[0;31mTypeError\u001b[0m: The added layer must be an instance of class Layer. Received: layer=/content/drive/MyDrive/Check_point_weight/cp.ckpt.data-00000-of-00001 of type <class 'str'>."
          ]
        }
      ]
    },
    {
      "cell_type": "code",
      "source": [
        "########################__________________________________Place-check-points-save__________________________######################################\n",
        "import os\n",
        "checkpoint_path = \"/content/drive/MyDrive/Check_point_weight/\"\n",
        "checkpoint_dir = os.path.dirname(checkpoint_path)\n",
        "\n",
        "# Create a callback that saves the model's weights\n",
        "cp_callback = tf.keras.callbacks.ModelCheckpoint(filepath=checkpoint_path,\n",
        "                                                 save_weights_only=True,\n",
        "                                                 verbose=1)"
      ],
      "metadata": {
        "id": "rVJMitn93ME5"
      },
      "execution_count": 30,
      "outputs": []
    },
    {
      "cell_type": "code",
      "source": [
        "########################__________________________________Save-check-points-after-each-epoch__________________________######################################\n",
        "epochs=10 \n",
        "history = model.fit(train_it,validation_data=val_it,epochs=epochs,callbacks=[cp_callback])"
      ],
      "metadata": {
        "id": "PIldh5fRxgiC"
      },
      "execution_count": null,
      "outputs": []
    },
    {
      "cell_type": "code",
      "source": [
        " "
      ],
      "metadata": {
        "colab": {
          "base_uri": "https://localhost:8080/"
        },
        "id": "4h6SbIaOxglW",
        "outputId": "63701e28-3c16-497f-f864-2307ab67ec59"
      },
      "execution_count": 26,
      "outputs": [
        {
          "output_type": "execute_result",
          "data": {
            "text/plain": [
              "<tensorflow.python.training.tracking.util.CheckpointLoadStatus at 0x7f98f305f1c0>"
            ]
          },
          "metadata": {},
          "execution_count": 26
        }
      ]
    },
    {
      "cell_type": "code",
      "source": [
        "########################___________________________________Load-Model-Weight-form-check-points__________________________######################################\n",
        "model.load_weights(checkpoint_path) \n",
        "history = model.fit(train_it,validation_data=val_it,epochs=epochs,callbacks=[cp_callback])"
      ],
      "metadata": {
        "id": "9mq2J3pGbbbJ"
      },
      "execution_count": null,
      "outputs": []
    },
    {
      "cell_type": "code",
      "source": [
        "########################___________________________________Load-Model-Weight-for-specific-epoch__________________________######################################\n",
        "model.load_weights(checkpoint_path)\n",
        "history = model.fit(train_it,validation_data=val_it,epochs=epochs,callbacks=[cp_callback],initial_epoch=7)"
      ],
      "metadata": {
        "id": "xhXx2YULgJ5g"
      },
      "execution_count": null,
      "outputs": []
    },
    {
      "cell_type": "code",
      "source": [
        "########################___________________________________Save-Whole-Model-and-Weight __________________________######################################\n",
        "# serialize model to JSON\n",
        "model_json = model.to_json()\n",
        "with open(\"/content/drive/MyDrive/Check_point_weight/model.json\", \"w\") as json_file:\n",
        "    json_file.write(model_json)\n",
        "# serialize weights to HDF5\n",
        "model.save_weights( \"/content/drive/MyDrive/Check_point_weight/model.h5\")\n",
        "print(\"Saved model to disk\")"
      ],
      "metadata": {
        "colab": {
          "base_uri": "https://localhost:8080/"
        },
        "id": "nAVMgrUNkGCi",
        "outputId": "5a7e25f3-fd47-4257-9764-f0e66d6ee818"
      },
      "execution_count": 37,
      "outputs": [
        {
          "output_type": "stream",
          "name": "stdout",
          "text": [
            "Saved model to disk\n"
          ]
        }
      ]
    },
    {
      "cell_type": "code",
      "source": [
        "########################___________________________________Load-Whole-Model-and-Weight __________________________######################################\n",
        "from tensorflow.keras.models import model_from_json\n",
        "# load json and create model\n",
        "json_file = open(  \"/content/drive/MyDrive/Check_point_weight/model.json\", 'r')\n",
        "loaded_model_json = json_file.read()\n",
        "json_file.close()\n",
        "loaded_model = model_from_json(loaded_model_json)\n",
        "# load weights into new model\n",
        "loaded_model.load_weights( \"/content/drive/MyDrive/Check_point_weight/model.h5\")\n",
        "print(\"Loaded model from disk\")\n",
        " \n",
        "# evaluate loaded model on test data\n",
        "loaded_model.compile(loss='binary_crossentropy', optimizer='rmsprop', metrics=['accuracy'])\n",
        "#score = loaded_model.evaluate(X, Y, verbose=0)\n",
        "#print(\"%s: %.2f%%\" % (loaded_model.metrics_names[1], score[1]*100))"
      ],
      "metadata": {
        "colab": {
          "base_uri": "https://localhost:8080/"
        },
        "id": "9ApIBIRdkNBc",
        "outputId": "2113cc22-75c1-43ac-a56a-eeb40c966ef9"
      },
      "execution_count": 38,
      "outputs": [
        {
          "output_type": "stream",
          "name": "stdout",
          "text": [
            "Loaded model from disk\n"
          ]
        }
      ]
    },
    {
      "cell_type": "code",
      "source": [
        "predictions = model.predict(x=test_it, steps=len(test_it), verbose=0)"
      ],
      "metadata": {
        "id": "WJvjbjT8ikD8"
      },
      "execution_count": 31,
      "outputs": []
    },
    {
      "cell_type": "code",
      "source": [
        "import numpy as np\n",
        "y_pred=np.argmax(predictions, axis=-1)\n",
        "y_pred"
      ],
      "metadata": {
        "colab": {
          "base_uri": "https://localhost:8080/"
        },
        "id": "QU6IradvjEKZ",
        "outputId": "61777a8b-460a-4f13-dd9c-a28d1866e97c"
      },
      "execution_count": 33,
      "outputs": [
        {
          "output_type": "execute_result",
          "data": {
            "text/plain": [
              "array([ 8,  4,  1,  3,  9,  5,  9,  3,  1,  7,  8,  8,  0,  9,  6,  8,  5,\n",
              "        4,  1, 10,  5, 10,  7,  1,  3,  8,  6,  9,  2,  3,  8,  4,  4,  3,\n",
              "       10,  7,  7,  8,  8, 10,  8,  8,  0,  4,  1,  9, 10,  9,  3,  7,  4,\n",
              "        5,  8,  8,  0,  7,  3,  5,  8,  8,  2,  4,  5,  9,  5,  8,  1,  3,\n",
              "        5,  8,  5,  0,  8,  3, 10,  0,  6,  2,  5,  3, 10,  7,  6,  9, 10,\n",
              "        8,  0,  1,  8,  9,  1, 10,  0,  2,  6,  4,  4,  9,  1,  3,  8,  7,\n",
              "        3,  5,  6,  0,  2, 10,  8,  7,  1,  1,  4,  8,  1,  0,  9,  8,  7,\n",
              "       10, 10, 10,  8,  0,  7,  0,  6,  8,  9,  5,  7,  8,  2,  3,  3,  2,\n",
              "        2,  5,  1,  9,  1,  7,  7,  5,  9,  2,  2, 10, 10,  2,  8,  5,  2,\n",
              "        1,  6, 10,  9,  1,  8,  5,  9,  0,  3, 10,  2,  1,  4,  9,  1,  4,\n",
              "        3,  9,  6,  6,  5,  8,  4, 10,  6,  8,  6, 10,  1,  3,  4,  0,  3,\n",
              "        3,  5,  7,  6,  3,  1, 10,  9,  7,  3,  6,  3,  6,  4,  7,  9,  0,\n",
              "        8,  3,  7,  5,  0,  3,  4,  8,  5,  4,  2,  0, 10,  0,  5,  4,  8,\n",
              "        9,  5, 10,  3,  2,  1,  9,  0,  8,  7,  0,  1,  0,  0,  8, 10,  4,\n",
              "        7,  5,  2,  7,  6,  3,  8,  5,  8,  1,  5,  3,  7,  8,  1,  5,  5,\n",
              "        9,  5, 10, 10,  8,  8, 10, 10,  0,  8,  1,  4,  8,  5, 10,  4,  3,\n",
              "        6,  7,  1,  9,  8, 10,  3,  1,  7,  5,  5,  7,  2,  0,  7,  8,  3,\n",
              "        8,  9, 10,  6,  8,  9,  9,  6,  2,  0,  9,  6,  4,  1,  0,  0,  9,\n",
              "        0,  8,  7,  8,  8,  6,  9,  9,  8,  6,  0,  0,  4,  3,  5,  3,  5,\n",
              "        6,  9,  2,  6,  7, 10,  4,  5, 10,  9,  2,  3,  5,  8,  3,  8,  1,\n",
              "        8,  8,  4,  8, 10,  3,  8,  8,  0,  4,  9,  5,  5,  7,  3,  0,  9,\n",
              "        9,  6,  2,  1,  1,  1,  9,  7,  8,  9,  1,  1,  2,  9,  7,  6, 10,\n",
              "        9,  1,  8,  2,  9,  0,  6,  0,  8,  3,  4,  8,  4,  2,  8,  1,  0,\n",
              "        8,  6,  8,  0,  7,  5,  7,  3,  7, 10,  0,  7,  7,  9,  1,  7,  8,\n",
              "        8, 10,  0,  7,  4,  4,  9,  5,  0,  4,  8,  5,  5,  3,  6, 10,  0,\n",
              "        1, 10, 10,  8,  8, 10,  5,  8, 10,  7,  5,  6,  6,  1,  5,  1,  3,\n",
              "        6,  9,  9,  9,  3,  8, 10,  2,  0,  4,  4,  9,  9,  3,  6,  2,  6,\n",
              "        2, 10,  8,  1,  5,  3,  7,  0,  2,  0,  8,  2,  1,  6,  2,  1,  0,\n",
              "        9,  6,  1,  8,  6,  0,  7,  0,  5,  8,  8,  2,  8,  8,  6,  8,  7,\n",
              "        2,  2,  8,  3,  2,  2,  8,  9,  4,  5,  4,  4,  5,  3,  8,  6,  8,\n",
              "        0,  8,  8,  3,  5,  8,  8,  6,  3,  4,  2,  5,  4, 10,  6,  3,  8,\n",
              "        3,  5,  1,  5,  0,  1,  5,  0,  8,  7,  7,  5,  8,  8,  3,  2,  9,\n",
              "        7,  0,  2,  3,  5,  8,  6, 10,  7,  7,  2, 10,  1,  8,  0,  3,  0,\n",
              "        1,  1,  1,  3,  6,  1,  9,  0,  6,  8,  8,  0,  4,  2,  3, 10,  4,\n",
              "        4,  2,  3,  3,  9,  1,  3,  2,  3,  8,  9,  2, 10,  4,  7,  4,  7,\n",
              "        6,  6,  2,  4, 10,  6,  3,  3,  4,  1,  8,  7, 10,  2,  6,  0,  2,\n",
              "        8,  9,  3,  8,  2,  9,  9,  4, 10,  1,  5,  4,  2,  6, 10,  1,  8,\n",
              "        1,  2,  3,  9,  0,  7,  0,  8,  2,  6,  9,  1, 10,  4,  3,  2,  2,\n",
              "        7,  2,  4,  1,  0,  8,  0,  1,  1,  8,  6,  8,  7, 10,  2,  3,  8,\n",
              "       10,  0,  9,  3,  8,  8,  0,  8,  5,  3,  4,  7,  4,  3, 10,  2, 10,\n",
              "        9,  9,  3,  0,  0,  1,  5,  7,  4,  8,  7,  2, 10,  8,  7,  4,  4,\n",
              "        0,  5,  4,  9,  5,  1, 10,  5,  5,  9,  5, 10,  6,  9, 10,  9,  9,\n",
              "        8,  6])"
            ]
          },
          "metadata": {},
          "execution_count": 33
        }
      ]
    },
    {
      "cell_type": "code",
      "source": [
        "true_categories = tf.concat([y for x, y in test_it], axis=-1)\n",
        "true_categories"
      ],
      "metadata": {
        "colab": {
          "base_uri": "https://localhost:8080/"
        },
        "id": "fE7kNuoYjRIe",
        "outputId": "19ceb758-f1e7-4682-8043-ba300bae123b"
      },
      "execution_count": 34,
      "outputs": [
        {
          "output_type": "execute_result",
          "data": {
            "text/plain": [
              "<tf.Tensor: shape=(716,), dtype=int32, numpy=\n",
              "array([10,  6,  0,  4,  1,  3,  7,  1,  0, 10,  4,  1,  8,  8,  0,  6,  6,\n",
              "        6,  2, 10,  8,  2,  8, 10,  3,  3,  6,  2,  7,  3,  8,  3,  1,  8,\n",
              "        7,  6, 10,  4,  7,  1,  2,  8,  4,  1, 10,  1,  0,  2,  7,  0,  6,\n",
              "        8,  8,  5,  5, 10,  7,  8,  8,  6,  4,  8,  1, 10,  2,  9,  9,  8,\n",
              "        1,  7,  0,  1,  5,  6,  2,  4,  7,  9,  4,  9,  6,  4,  6,  8,  0,\n",
              "        0,  5,  8,  7,  7,  5,  3,  7,  8,  4, 10,  4,  6,  1,  1,  4,  1,\n",
              "        1,  8,  2, 10,  8, 10,  9,  3,  3,  5,  3,  5,  5,  7,  0,  4,  0,\n",
              "        6,  4, 10,  9,  0,  1,  3,  7,  1,  7,  5,  6,  8,  0,  3,  0,  9,\n",
              "        1,  2,  8,  2,  7,  5,  8,  8,  3, 10,  1,  5,  5,  9, 10,  5,  8,\n",
              "        1, 10,  1,  3,  8,  8,  3,  7,  2,  8,  1,  8, 10,  5,  9,  6,  9,\n",
              "        1,  9,  8,  7,  9,  1,  0,  3,  7,  9,  5,  8,  8,  0,  8,  6,  8,\n",
              "        9,  0,  6,  6,  8,  1,  6,  7,  7,  9,  4,  1,  1,  9,  5,  2,  1,\n",
              "       10,  5,  3, 10,  4,  3,  9,  3,  0,  0,  4,  0,  8, 10,  7,  6,  3,\n",
              "        0,  2,  3,  7, 10,  8,  7,  6,  0,  8,  8,  5,  1,  0,  2,  8,  8,\n",
              "        8,  1,  2,  5,  5,  2,  8,  2,  1,  4,  9,  8, 10,  3,  2, 10,  6,\n",
              "        9, 10,  8,  8,  5,  0,  6,  3,  5,  6, 10,  9,  1,  8,  0,  8,  3,\n",
              "        7,  4,  0,  3,  2,  9,  5,  2,  6,  0,  0, 10,  6,  2,  5,  7,  8,\n",
              "        0, 10,  5,  8,  8,  3,  1,  8,  5,  0,  8,  0,  0,  5,  8,  5,  1,\n",
              "        4, 10,  4,  7,  3,  9,  4,  3,  1,  8,  8,  8,  0,  4,  4,  8,  8,\n",
              "        3,  0,  5,  3,  9,  3,  8,  8, 10, 10,  9,  4,  9,  0,  9, 10,  5,\n",
              "        9,  2,  3,  3,  8,  0,  5,  3,  0, 10,  2,  4,  4, 10,  2,  6,  2,\n",
              "        3,  6,  4,  7,  4,  8,  8, 10,  3,  4,  7,  8, 10,  5,  8,  9,  2,\n",
              "        8,  4,  0,  7,  8, 10,  9,  7, 10,  1,  3,  7,  3,  8,  0,  3,  5,\n",
              "        2,  8,  8,  4,  6,  8,  0,  8,  9,  2,  5,  1,  8,  9,  8,  1,  7,\n",
              "        5,  8,  5,  8,  3,  2, 10, 10,  8,  2,  9,  2,  2,  6,  8, 10,  3,\n",
              "        3,  5,  0,  7,  1, 10,  1,  8, 10,  4,  9,  5,  7,  2,  1,  3,  9,\n",
              "        4,  1, 10,  5,  8,  8,  9,  0,  0,  9,  8,  9,  3,  5,  4,  6,  3,\n",
              "        4,  2,  8,  7,  9,  4,  5,  8,  2,  4,  3,  2, 10,  6,  8, 10,  1,\n",
              "        5,  8,  5,  0,  0,  8,  4,  3,  2,  3,  7,  0,  3, 10,  7,  5,  1,\n",
              "        5,  7,  0,  9,  6,  3,  3,  9,  8,  2,  9,  6,  4,  9,  6,  2,  1,\n",
              "        8,  7,  3,  1,  3,  1,  1,  6,  9,  8,  5,  8,  9,  5,  5,  6,  3,\n",
              "        7,  9, 10,  0,  8,  9,  5,  2,  8,  0,  0,  8,  8,  6,  9,  3, 10,\n",
              "        0,  6,  6,  0, 10,  6,  3,  6,  7,  2,  3,  1,  7,  5,  9, 10,  4,\n",
              "        5,  9,  4,  7, 10,  4,  5,  4,  5,  0,  2,  0,  1,  9,  7,  9,  3,\n",
              "       10,  9,  8,  8,  9,  1,  7,  8,  0,  4, 10,  5,  8,  6,  4,  9,  5,\n",
              "        4,  5,  6,  1,  7,  9,  6,  7,  5,  1,  0,  4,  8,  4,  3,  2,  3,\n",
              "       10,  6,  1,  7,  3,  2,  1,  1,  3, 10,  7,  6,  2,  2,  1,  9,  9,\n",
              "        2,  9,  5,  5,  9,  3,  3, 10,  9,  0,  9,  9,  2,  2,  6, 10,  4,\n",
              "        1,  4,  0,  0,  4,  6,  5,  9,  1,  0,  2,  8,  8,  5,  5,  3,  2,\n",
              "        7,  8,  7,  7,  1,  7,  3,  0,  7,  2,  1,  6,  3,  3,  2,  6,  8,\n",
              "        8,  4, 10,  9,  2,  1,  8, 10,  5,  7,  7,  2, 10,  9,  8,  6,  1,\n",
              "        3,  8,  0,  6,  8, 10,  8,  7,  4,  2,  4,  0,  9,  8,  9,  0,  8,\n",
              "        4, 10], dtype=int32)>"
            ]
          },
          "metadata": {},
          "execution_count": 34
        }
      ]
    },
    {
      "cell_type": "code",
      "source": [
        "from sklearn import metrics\n",
        "confusion_matrix = metrics.confusion_matrix(true_categories, y_pred)\n",
        "\n",
        "cm_display = metrics.ConfusionMatrixDisplay(confusion_matrix = confusion_matrix, display_labels = [False, True])\n",
        "\n",
        "cm_display.plot()\n",
        "plt.show()"
      ],
      "metadata": {
        "colab": {
          "base_uri": "https://localhost:8080/",
          "height": 462
        },
        "id": "nx2bp3OBjaHa",
        "outputId": "1b147056-7169-47b7-9908-0e2708b2ca3e"
      },
      "execution_count": 36,
      "outputs": [
        {
          "output_type": "error",
          "ename": "NameError",
          "evalue": "ignored",
          "traceback": [
            "\u001b[0;31m---------------------------------------------------------------------------\u001b[0m",
            "\u001b[0;31mNameError\u001b[0m                                 Traceback (most recent call last)",
            "\u001b[0;32m<ipython-input-36-6af714f786d5>\u001b[0m in \u001b[0;36m<module>\u001b[0;34m\u001b[0m\n\u001b[1;32m      5\u001b[0m \u001b[0;34m\u001b[0m\u001b[0m\n\u001b[1;32m      6\u001b[0m \u001b[0mcm_display\u001b[0m\u001b[0;34m.\u001b[0m\u001b[0mplot\u001b[0m\u001b[0;34m(\u001b[0m\u001b[0;34m)\u001b[0m\u001b[0;34m\u001b[0m\u001b[0;34m\u001b[0m\u001b[0m\n\u001b[0;32m----> 7\u001b[0;31m \u001b[0mplt\u001b[0m\u001b[0;34m.\u001b[0m\u001b[0mshow\u001b[0m\u001b[0;34m(\u001b[0m\u001b[0;34m)\u001b[0m\u001b[0;34m\u001b[0m\u001b[0;34m\u001b[0m\u001b[0m\n\u001b[0m",
            "\u001b[0;31mNameError\u001b[0m: name 'plt' is not defined"
          ]
        },
        {
          "output_type": "display_data",
          "data": {
            "text/plain": [
              "<Figure size 432x288 with 2 Axes>"
            ],
            "image/png": "[encoded data removed]"
          },
          "metadata": {
            "needs_background": "light"
          }
        }
      ]
    }
  ]
}